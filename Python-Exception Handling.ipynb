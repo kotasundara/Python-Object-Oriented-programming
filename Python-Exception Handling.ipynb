{
 "cells": [
  {
   "cell_type": "code",
   "execution_count": 2,
   "metadata": {},
   "outputs": [
    {
     "name": "stdout",
     "output_type": "stream",
     "text": [
      "C:\\Users\\sumanth\n"
     ]
    }
   ],
   "source": [
    "#list the files in the current directory\n",
    "import os\n",
    "print(os.getcwd())"
   ]
  },
  {
   "cell_type": "code",
   "execution_count": 23,
   "metadata": {},
   "outputs": [
    {
     "name": "stdout",
     "output_type": "stream",
     "text": [
      "Error raised by me\n",
      "closed the file\n"
     ]
    }
   ],
   "source": [
    "try:\n",
    "    f=open(\"Classes.ipynb\")\n",
    "    if f.name==\"Classes.ipynb\":\n",
    "        raise Exception\n",
    "except FileNotFoundError as e:\n",
    "    print(e)\n",
    "except Exception as e:\n",
    "    print(\"Error raised by me\")\n",
    "else:\n",
    "    print(f.read())\n",
    "finally:\n",
    "    f.close()\n",
    "    print(\"closed the file\")"
   ]
  },
  {
   "cell_type": "code",
   "execution_count": 36,
   "metadata": {},
   "outputs": [
    {
     "ename": "CoffeeToHotException",
     "evalue": "Coffee is too cold",
     "output_type": "error",
     "traceback": [
      "\u001b[1;31m---------------------------------------------------------------------------\u001b[0m",
      "\u001b[1;31mCoffeeToHotException\u001b[0m                      Traceback (most recent call last)",
      "\u001b[1;32m<ipython-input-36-a2916d044995>\u001b[0m in \u001b[0;36m<module>\u001b[1;34m()\u001b[0m\n\u001b[0;32m     24\u001b[0m \u001b[1;33m\u001b[0m\u001b[0m\n\u001b[0;32m     25\u001b[0m \u001b[0mcup\u001b[0m\u001b[1;33m=\u001b[0m\u001b[0mCoffeeCup\u001b[0m\u001b[1;33m(\u001b[0m\u001b[1;36m50\u001b[0m\u001b[1;33m)\u001b[0m\u001b[1;33m\u001b[0m\u001b[0m\n\u001b[1;32m---> 26\u001b[1;33m \u001b[0mcup\u001b[0m\u001b[1;33m.\u001b[0m\u001b[0mdrink_coffee\u001b[0m\u001b[1;33m(\u001b[0m\u001b[1;33m)\u001b[0m\u001b[1;33m\u001b[0m\u001b[0m\n\u001b[0m\u001b[0;32m     27\u001b[0m \u001b[1;31m#print(cup.get_temp())\u001b[0m\u001b[1;33m\u001b[0m\u001b[1;33m\u001b[0m\u001b[0m\n",
      "\u001b[1;32m<ipython-input-36-a2916d044995>\u001b[0m in \u001b[0;36mdrink_coffee\u001b[1;34m(self)\u001b[0m\n\u001b[0;32m     17\u001b[0m             \u001b[1;32mraise\u001b[0m \u001b[0mCoffeeToHotException\u001b[0m\u001b[1;33m(\u001b[0m\u001b[1;34m\"Coffee is too hot\"\u001b[0m\u001b[1;33m)\u001b[0m\u001b[1;33m\u001b[0m\u001b[0m\n\u001b[0;32m     18\u001b[0m         \u001b[1;32melif\u001b[0m \u001b[0mself\u001b[0m\u001b[1;33m.\u001b[0m\u001b[0m__temperature\u001b[0m \u001b[1;33m<\u001b[0m \u001b[1;36m65\u001b[0m\u001b[1;33m:\u001b[0m\u001b[1;33m\u001b[0m\u001b[0m\n\u001b[1;32m---> 19\u001b[1;33m             \u001b[1;32mraise\u001b[0m \u001b[0mCoffeeToHotException\u001b[0m\u001b[1;33m(\u001b[0m\u001b[1;34m\"Coffee is too cold\"\u001b[0m\u001b[1;33m)\u001b[0m\u001b[1;33m\u001b[0m\u001b[0m\n\u001b[0m\u001b[0;32m     20\u001b[0m         \u001b[1;32melse\u001b[0m\u001b[1;33m:\u001b[0m\u001b[1;33m\u001b[0m\u001b[0m\n\u001b[0;32m     21\u001b[0m             \u001b[0mprint\u001b[0m\u001b[1;33m(\u001b[0m\u001b[1;34m\"Coffee ok to drink\"\u001b[0m\u001b[1;33m)\u001b[0m\u001b[1;33m\u001b[0m\u001b[0m\n",
      "\u001b[1;31mCoffeeToHotException\u001b[0m: Coffee is too cold"
     ]
    }
   ],
   "source": [
    "#writing custom exceptions\n",
    "class CoffeeToHotException(Exception):\n",
    "    def __init__(self,msg):\n",
    "        super().__init__(msg)\n",
    "\n",
    "class CoffeeToColdException(Exception):\n",
    "    def __init__(self,msg):\n",
    "        super().__init__(msg)\n",
    "\n",
    "\n",
    "class CoffeeCup:\n",
    "    def __init__(self,temperature):\n",
    "        self.__temperature=temperature\n",
    "    \n",
    "    def drink_coffee(self):\n",
    "        if self.__temperature > 85:\n",
    "            raise CoffeeToHotException(\"Coffee is too hot\")\n",
    "        elif self.__temperature < 65:\n",
    "            raise CoffeeToHotException(\"Coffee is too cold\")\n",
    "        else:\n",
    "            print(\"Coffee ok to drink\")\n",
    "    def get_temp(self):\n",
    "        return self.__temperature\n",
    "    \n",
    "cup=CoffeeCup(50)\n",
    "cup.drink_coffee()\n",
    "#print(cup.get_temp())"
   ]
  }
 ],
 "metadata": {
  "kernelspec": {
   "display_name": "Python 3",
   "language": "python",
   "name": "python3"
  },
  "language_info": {
   "codemirror_mode": {
    "name": "ipython",
    "version": 3
   },
   "file_extension": ".py",
   "mimetype": "text/x-python",
   "name": "python",
   "nbconvert_exporter": "python",
   "pygments_lexer": "ipython3",
   "version": "3.6.5"
  }
 },
 "nbformat": 4,
 "nbformat_minor": 2
}
