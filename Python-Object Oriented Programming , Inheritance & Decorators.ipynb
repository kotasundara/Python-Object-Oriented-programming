{
 "cells": [
  {
   "cell_type": "code",
   "execution_count": 486,
   "metadata": {},
   "outputs": [],
   "source": [
    "class Employee:\n",
    "    \"\"\"Employee Details class\"\"\"\n",
    "    raise_amount=0.04   #class attribute\n",
    "    num_of_emps=0       #class attribute\n",
    "    \n",
    "    def  __init__(self,first,last,email,pay=100000):\n",
    "        print(\"init in Employee executed...\")\n",
    "        self.first_name=first\n",
    "        self.last_name=last\n",
    "        self.email_id=email\n",
    "        self.payamount=pay\n",
    "        Employee.num_of_emps+=1\n",
    "        \n",
    "    def fullname(self):\n",
    "       return(\"{} {}\".format(self.first_name,self.last_name))\n",
    "        \n",
    "    def __str__(self):                   # string representation of an object in python\n",
    "        return (self.first_name + \" \" + self.last_name + \":\" + self.email_id + \":\" + str(self.payamount))\n",
    "    \n",
    "    @staticmethod\n",
    "    def set_raise_amount(amount):\n",
    "        Employee.raise_amount=amount\n",
    "        \n",
    "    @staticmethod\n",
    "    def is_workday(day):\n",
    "        if day.weekday()==5 or day.weekday()==6:\n",
    "            return False\n",
    "        return True\n",
    "        \n",
    "    \n",
    "    #dunder add method    \n",
    "    def __add__(self,other):\n",
    "        return self.payamount + other.payamount\n",
    "    \n",
    "    #dunder len method\n",
    "    def __len__(self):\n",
    "        return len(self.fullname())\n",
    "        \n",
    "    "
   ]
  },
  {
   "cell_type": "code",
   "execution_count": 487,
   "metadata": {},
   "outputs": [],
   "source": [
    "class Developer(Employee):\n",
    "    raise_amount=1.10\n",
    "    \n",
    "    def  __init__(self,first,last,email,pay,lang):\n",
    "        print(\"init in Deveoper executed...\")\n",
    "        super().__init__(first,last,email,pay)\n",
    "        self.prog_lang=lang\n",
    "        \n",
    "    def __str__(self):\n",
    "        return (super().__str__() + \":\" + self.prog_lang)     \n",
    "        \n",
    "            \n",
    "            \n",
    "         \n",
    "    \n",
    "    \n",
    "    "
   ]
  },
  {
   "cell_type": "code",
   "execution_count": 488,
   "metadata": {},
   "outputs": [],
   "source": [
    "class Manager(Employee):    \n",
    "    \n",
    "    def  __init__(self,first,last,email,pay,employees=None):        \n",
    "        super().__init__(first,last,email,pay)\n",
    "        if employees is None:\n",
    "            self.employees=[]\n",
    "        else:\n",
    "            self.employees.append(employees)\n",
    "        print(\"Inside Manager init method\")\n",
    "        for emp in self.employees:\n",
    "            print(emp)\n",
    "        \n",
    "    def add_emp(self,emp):        \n",
    "        if emp not in self.employees:            \n",
    "            self.employees.append(emp)\n",
    "        print(\"Inside add emp method\")\n",
    "        for emp in self.employees:\n",
    "            print(emp)\n",
    "       \n",
    "        \n",
    "    def remove_emp(self,emp):\n",
    "        if emp in self.employees:\n",
    "            self.employees.remove(emp)\n",
    "        print(\"Inside remove emp method\")\n",
    "        for emp in self.employees:\n",
    "            print(emp)\n",
    "      \n",
    "        \n",
    "    def print_emps(self):\n",
    "        for emp in self.employees:\n",
    "            print(emp)      "
   ]
  },
  {
   "cell_type": "code",
   "execution_count": 489,
   "metadata": {},
   "outputs": [
    {
     "name": "stdout",
     "output_type": "stream",
     "text": [
      "init in Employee executed...\n",
      "init in Employee executed...\n"
     ]
    }
   ],
   "source": [
    "emp_1=Employee(\"sundar\",\"k\",\"sk@gmail.com\",50000)\n",
    "emp_2=Employee(\"sumanth\",\"k\",\"sm@gmail.com\")"
   ]
  },
  {
   "cell_type": "code",
   "execution_count": 490,
   "metadata": {},
   "outputs": [
    {
     "name": "stdout",
     "output_type": "stream",
     "text": [
      "sundar\n",
      "50000\n",
      "100000\n"
     ]
    }
   ],
   "source": [
    "print(emp_1.first_name)\n",
    "print(emp_1.payamount)\n",
    "print(emp_2.payamount)"
   ]
  },
  {
   "cell_type": "code",
   "execution_count": 491,
   "metadata": {},
   "outputs": [
    {
     "data": {
      "text/plain": [
       "'sumanth k'"
      ]
     },
     "execution_count": 491,
     "metadata": {},
     "output_type": "execute_result"
    }
   ],
   "source": [
    "emp_1.fullname()\n",
    "emp_2.fullname()\n",
    "Employee.fullname(emp_2) # same as above call emp_2.fullname()"
   ]
  },
  {
   "cell_type": "code",
   "execution_count": 492,
   "metadata": {},
   "outputs": [
    {
     "name": "stdout",
     "output_type": "stream",
     "text": [
      "sundar k:sk@gmail.com:50000\n",
      "sumanth k:sm@gmail.com:100000\n"
     ]
    }
   ],
   "source": [
    "#string representation of each python object\n",
    "print(emp_1)\n",
    "print(emp_2)"
   ]
  },
  {
   "cell_type": "code",
   "execution_count": 493,
   "metadata": {},
   "outputs": [
    {
     "data": {
      "text/plain": [
       "{'first_name': 'sundar',\n",
       " 'last_name': 'k',\n",
       " 'email_id': 'sk@gmail.com',\n",
       " 'payamount': 50000}"
      ]
     },
     "execution_count": 493,
     "metadata": {},
     "output_type": "execute_result"
    }
   ],
   "source": [
    "emp_1.__dict__"
   ]
  },
  {
   "cell_type": "code",
   "execution_count": 494,
   "metadata": {},
   "outputs": [
    {
     "data": {
      "text/plain": [
       "mappingproxy({'__module__': '__main__',\n",
       "              '__doc__': 'Employee Details class',\n",
       "              'raise_amount': 0.04,\n",
       "              'num_of_emps': 2,\n",
       "              '__init__': <function __main__.Employee.__init__(self, first, last, email, pay=100000)>,\n",
       "              'fullname': <function __main__.Employee.fullname(self)>,\n",
       "              '__str__': <function __main__.Employee.__str__(self)>,\n",
       "              'set_raise_amount': <staticmethod at 0x5245fd0>,\n",
       "              'is_workday': <staticmethod at 0x5245e10>,\n",
       "              '__add__': <function __main__.Employee.__add__(self, other)>,\n",
       "              '__len__': <function __main__.Employee.__len__(self)>,\n",
       "              '__dict__': <attribute '__dict__' of 'Employee' objects>,\n",
       "              '__weakref__': <attribute '__weakref__' of 'Employee' objects>})"
      ]
     },
     "execution_count": 494,
     "metadata": {},
     "output_type": "execute_result"
    }
   ],
   "source": [
    "Employee.__dict__"
   ]
  },
  {
   "cell_type": "code",
   "execution_count": 495,
   "metadata": {},
   "outputs": [
    {
     "data": {
      "text/plain": [
       "'Employee Details class'"
      ]
     },
     "execution_count": 495,
     "metadata": {},
     "output_type": "execute_result"
    }
   ],
   "source": [
    "Employee.__doc__"
   ]
  },
  {
   "cell_type": "code",
   "execution_count": 496,
   "metadata": {},
   "outputs": [
    {
     "name": "stdout",
     "output_type": "stream",
     "text": [
      "2\n"
     ]
    }
   ],
   "source": [
    "print(Employee.num_of_emps)"
   ]
  },
  {
   "cell_type": "code",
   "execution_count": 497,
   "metadata": {},
   "outputs": [],
   "source": [
    "Employee.set_raise_amount(0.6)"
   ]
  },
  {
   "cell_type": "code",
   "execution_count": 498,
   "metadata": {},
   "outputs": [
    {
     "data": {
      "text/plain": [
       "0.6"
      ]
     },
     "execution_count": 498,
     "metadata": {},
     "output_type": "execute_result"
    }
   ],
   "source": [
    "Employee.raise_amount"
   ]
  },
  {
   "cell_type": "code",
   "execution_count": 499,
   "metadata": {},
   "outputs": [
    {
     "data": {
      "text/plain": [
       "6"
      ]
     },
     "execution_count": 499,
     "metadata": {},
     "output_type": "execute_result"
    }
   ],
   "source": [
    "import datetime\n",
    "my_date=datetime.date(2019,4,7)\n",
    "my_date.weekday()"
   ]
  },
  {
   "cell_type": "code",
   "execution_count": 500,
   "metadata": {},
   "outputs": [
    {
     "name": "stdout",
     "output_type": "stream",
     "text": [
      "False\n"
     ]
    }
   ],
   "source": [
    "print(Employee.is_workday(my_date))"
   ]
  },
  {
   "cell_type": "code",
   "execution_count": 501,
   "metadata": {},
   "outputs": [
    {
     "name": "stdout",
     "output_type": "stream",
     "text": [
      "init in Deveoper executed...\n",
      "init in Employee executed...\n",
      "init in Deveoper executed...\n",
      "init in Employee executed...\n"
     ]
    }
   ],
   "source": [
    "dev_1=Developer(\"Sushma\",\"K\",\"xyz@gmail.com\",80000,\"Python pandas\")\n",
    "dev_2=Developer(\"Sum\",\"K\",\"ksr@gmail.com\",70000,\"Python numpy\")"
   ]
  },
  {
   "cell_type": "code",
   "execution_count": 502,
   "metadata": {},
   "outputs": [
    {
     "name": "stdout",
     "output_type": "stream",
     "text": [
      "Sushma K:xyz@gmail.com:80000:Python pandas\n"
     ]
    }
   ],
   "source": [
    "print(dev_1)"
   ]
  },
  {
   "cell_type": "code",
   "execution_count": 503,
   "metadata": {},
   "outputs": [
    {
     "name": "stdout",
     "output_type": "stream",
     "text": [
      "Sum K:ksr@gmail.com:70000:Python numpy\n"
     ]
    }
   ],
   "source": [
    "print(dev_2)"
   ]
  },
  {
   "cell_type": "code",
   "execution_count": 504,
   "metadata": {},
   "outputs": [
    {
     "name": "stdout",
     "output_type": "stream",
     "text": [
      "init in Employee executed...\n",
      "Inside Manager init method\n"
     ]
    }
   ],
   "source": [
    "mgr_1=Manager(\"Chiru\",\"K\",\"abc@gmail.com\",150000)"
   ]
  },
  {
   "cell_type": "code",
   "execution_count": 505,
   "metadata": {},
   "outputs": [
    {
     "name": "stdout",
     "output_type": "stream",
     "text": [
      "abc@gmail.com\n",
      "5\n"
     ]
    }
   ],
   "source": [
    "#print attributes of mgr_1\n",
    "print(mgr_1.email_id)\n",
    "print(mgr_1.num_of_emps)"
   ]
  },
  {
   "cell_type": "code",
   "execution_count": 506,
   "metadata": {},
   "outputs": [
    {
     "name": "stdout",
     "output_type": "stream",
     "text": [
      "Inside add emp method\n",
      "sundar k:sk@gmail.com:50000\n"
     ]
    }
   ],
   "source": [
    "mgr_1.add_emp(emp_1)"
   ]
  },
  {
   "cell_type": "code",
   "execution_count": 507,
   "metadata": {},
   "outputs": [
    {
     "name": "stdout",
     "output_type": "stream",
     "text": [
      "Inside add emp method\n",
      "sundar k:sk@gmail.com:50000\n",
      "sumanth k:sm@gmail.com:100000\n"
     ]
    }
   ],
   "source": [
    "mgr_1.add_emp(emp_2)"
   ]
  },
  {
   "cell_type": "code",
   "execution_count": 508,
   "metadata": {},
   "outputs": [
    {
     "name": "stdout",
     "output_type": "stream",
     "text": [
      "sundar k:sk@gmail.com:50000\n",
      "sumanth k:sm@gmail.com:100000\n"
     ]
    }
   ],
   "source": [
    "mgr_1.print_emps()"
   ]
  },
  {
   "cell_type": "code",
   "execution_count": 509,
   "metadata": {},
   "outputs": [
    {
     "name": "stdout",
     "output_type": "stream",
     "text": [
      "Inside remove emp method\n",
      "sundar k:sk@gmail.com:50000\n"
     ]
    }
   ],
   "source": [
    "#remove sumanth\n",
    "mgr_1.remove_emp(emp_2)"
   ]
  },
  {
   "cell_type": "code",
   "execution_count": 510,
   "metadata": {},
   "outputs": [
    {
     "name": "stdout",
     "output_type": "stream",
     "text": [
      "sundar k:sk@gmail.com:50000\n"
     ]
    }
   ],
   "source": [
    "mgr_1.print_emps()"
   ]
  },
  {
   "cell_type": "code",
   "execution_count": 511,
   "metadata": {},
   "outputs": [
    {
     "name": "stdout",
     "output_type": "stream",
     "text": [
      "True\n",
      "True\n",
      "False\n",
      "True\n"
     ]
    }
   ],
   "source": [
    "#print relationships\n",
    "print(isinstance(mgr_1,Manager))\n",
    "print(isinstance(mgr_1,Employee))\n",
    "print(isinstance(mgr_1,Developer))\n",
    "print(issubclass(Developer,Employee))"
   ]
  },
  {
   "cell_type": "code",
   "execution_count": 512,
   "metadata": {},
   "outputs": [
    {
     "name": "stdout",
     "output_type": "stream",
     "text": [
      "150000\n"
     ]
    }
   ],
   "source": [
    "print(emp_1+emp_2)"
   ]
  },
  {
   "cell_type": "code",
   "execution_count": 513,
   "metadata": {},
   "outputs": [
    {
     "data": {
      "text/plain": [
       "150000"
      ]
     },
     "execution_count": 513,
     "metadata": {},
     "output_type": "execute_result"
    }
   ],
   "source": [
    "emp_1.__add__(emp_2)  #same as above method"
   ]
  },
  {
   "cell_type": "code",
   "execution_count": 514,
   "metadata": {},
   "outputs": [
    {
     "data": {
      "text/plain": [
       "8"
      ]
     },
     "execution_count": 514,
     "metadata": {},
     "output_type": "execute_result"
    }
   ],
   "source": [
    "len(emp_1)"
   ]
  },
  {
   "cell_type": "code",
   "execution_count": 515,
   "metadata": {},
   "outputs": [
    {
     "data": {
      "text/plain": [
       "8"
      ]
     },
     "execution_count": 515,
     "metadata": {},
     "output_type": "execute_result"
    }
   ],
   "source": [
    "emp_1.__len__()"
   ]
  },
  {
   "cell_type": "code",
   "execution_count": 536,
   "metadata": {},
   "outputs": [],
   "source": [
    "#property decorators- Getters, Setters and Deleters\n",
    "class Person:\n",
    "    \"\"\"Person Details class\"\"\"\n",
    "    \n",
    "    def  __init__(self,first,last):        \n",
    "        self.first=first\n",
    "        self.last=last\n",
    "        \n",
    "    @property\n",
    "    def email(self):\n",
    "        return '{}.{}@email.com'.format(self.first,self.last)\n",
    "        \n",
    "    @property\n",
    "    def fullname(self):\n",
    "        return \"{} {}\".format(self.first,self.last)\n",
    "    \n",
    "    @fullname.setter\n",
    "    def fullname(self,name):\n",
    "        first,last=name.split(' ')\n",
    "        self.first=first\n",
    "        self.last=last\n",
    "        \n",
    "        \n",
    "    @fullname.deleter\n",
    "    def fullname(self):\n",
    "        print(\"Delete Name\")\n",
    "        self.first=None\n",
    "        self.last=None\n",
    "    "
   ]
  },
  {
   "cell_type": "code",
   "execution_count": 537,
   "metadata": {},
   "outputs": [
    {
     "name": "stdout",
     "output_type": "stream",
     "text": [
      "John\n",
      "Smith\n",
      "John Smith\n",
      "John.Smith@email.com\n"
     ]
    }
   ],
   "source": [
    "per1=Person(\"John\",\"Smith\")\n",
    "print(per1.first)\n",
    "print(per1.last)\n",
    "print(per1.fullname)\n",
    "print(per1.email)"
   ]
  },
  {
   "cell_type": "code",
   "execution_count": 538,
   "metadata": {},
   "outputs": [],
   "source": [
    "per1.fullname=\"sundar K\""
   ]
  },
  {
   "cell_type": "code",
   "execution_count": 539,
   "metadata": {},
   "outputs": [
    {
     "data": {
      "text/plain": [
       "'sundar'"
      ]
     },
     "execution_count": 539,
     "metadata": {},
     "output_type": "execute_result"
    }
   ],
   "source": [
    "per1.first"
   ]
  },
  {
   "cell_type": "code",
   "execution_count": 540,
   "metadata": {},
   "outputs": [
    {
     "data": {
      "text/plain": [
       "'K'"
      ]
     },
     "execution_count": 540,
     "metadata": {},
     "output_type": "execute_result"
    }
   ],
   "source": [
    "per1.last"
   ]
  },
  {
   "cell_type": "code",
   "execution_count": 541,
   "metadata": {},
   "outputs": [
    {
     "name": "stdout",
     "output_type": "stream",
     "text": [
      "Delete Name\n"
     ]
    }
   ],
   "source": [
    "del per1.fullname"
   ]
  },
  {
   "cell_type": "code",
   "execution_count": null,
   "metadata": {},
   "outputs": [],
   "source": []
  }
 ],
 "metadata": {
  "kernelspec": {
   "display_name": "Python 3",
   "language": "python",
   "name": "python3"
  },
  "language_info": {
   "codemirror_mode": {
    "name": "ipython",
    "version": 3
   },
   "file_extension": ".py",
   "mimetype": "text/x-python",
   "name": "python",
   "nbconvert_exporter": "python",
   "pygments_lexer": "ipython3",
   "version": "3.6.5"
  }
 },
 "nbformat": 4,
 "nbformat_minor": 2
}
